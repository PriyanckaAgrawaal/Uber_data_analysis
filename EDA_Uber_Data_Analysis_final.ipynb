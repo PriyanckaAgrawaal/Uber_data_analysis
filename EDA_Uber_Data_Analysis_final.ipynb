{
 "cells": [
  {
   "cell_type": "markdown",
   "metadata": {
    "id": "vncDsAP0Gaoa"
   },
   "source": [
    "# **Project Name**    - Data-Driven Insights into Uber Ride Requests: Bridging the Supply-Demand Gap"
   ]
  },
  {
   "cell_type": "markdown",
   "metadata": {
    "id": "beRrZCGUAJYm"
   },
   "source": [
    "##### **Project Type**    - EDA\n",
    "##### **Contribution**    - Individual"
   ]
  },
  {
   "cell_type": "markdown",
   "metadata": {
    "id": "FJNUwmbgGyua"
   },
   "source": [
    "# **Project Summary -**"
   ]
  },
  {
   "cell_type": "markdown",
   "metadata": {
    "id": "F6v_1wHtG2nS"
   },
   "source": [
    "\r\n",
    "\r\n",
    "### 📊 **Project Summary: Uber Request Data Analysis**\r\n",
    "\r\n",
    "Uber Technologies Inc., a global leader in ride-hailing services, relies heavily on data to streamline operations and enhance the user experience. To address growing concerns around missed ride opportunities and service inefficiencies, Uber has provided a dataset capturing ride request activity over a specific period. This project focuses on analyzing the **patterns of ride requests**, identifying **operational inefficiencies**, and suggesting **data-driven solutions** to improve service quality and availability.\r\n",
    "\r\n",
    "#### 🗂️ Dataset Overview\r\n",
    "\r\n",
    "The dataset consists of **Uber ride requests**, capturing key attributes such as:\r\n",
    "\r\n",
    "* **Request Timestamp**: When a customer requested a ride.\r\n",
    "* **Drop Timestamp**: When the trip ended (if applicable).\r\n",
    "* **Pickup Point**: Either from the **City** or **Airport**.\r\n",
    "* **Status**: Outcome of the request – **Completed**, **Cancelled**, or **No Cars Available**.\r\n",
    "* **Driver ID**: (Sometimes null if no driver was assigned).\r\n",
    "* **Trip ID**: Unique identifier for each ride request.\r\n",
    "\r\n",
    "The data offers insights into user behavior, service demand, supply conditions, and operational bottlenecks. The presence of both successful and failed ride attempts allows for a comprehensive analysis of Uber’s performance in managing supply-demand dynamics.\r\n",
    "\r\n",
    "#### 🔍 Problem Context\r\n",
    "\r\n",
    "Uber faces a key challenge: a significant number of ride requests are **either cancelled by drivers or unfulfilled due to lack of available cars**. This issue is especially critical during peak hours and in high-demand zones like airports and urban centers. These service failures negatively impact customer satisfaction, strain brand reputation, and result in revenue loss.\r\n",
    "\r\n",
    "This analysis aims to **uncover the reasons behind these issues**, focusing on:\r\n",
    "\r\n",
    "* Temporal trends (time of day, weekday vs. weekend).\r\n",
    "* Location-based patterns (City vs. Airport pickups).\r\n",
    "* Distribution and timing of cancellations and unavailability.\r\n",
    "\r\n",
    "#### 📈 Key Objectives\r\n",
    "\r\n",
    "1. **Identify Peak Request Hours**\r\n",
    "   Determine time windows with the highest ride request volumes and observe corresponding fulfillment rates.\r\n",
    "\r\n",
    "2. **Analyze Trip Status Patterns**\r\n",
    "   Understand when and where most **cancellations** and **“no car available”** statuses occur.\r\n",
    "\r\n",
    "3. **Compare Pickup Point Dynamics**\r\n",
    "   Assess the differences in demand and service issues between **City** and **Airport** pickup points.\r\n",
    "\r\n",
    "4. **Uncover Supply-Demand Gaps**\r\n",
    "   Reveal mismatches between rider demand and driver availability, and suggest areas where Uber can improve driver allocation.\r\n",
    "\r\n",
    "#### 🧠 Analytical Approach\r\n",
    "\r\n",
    "The data will be cleaned, transformed, and visualized using tools such as **Python (Pandas, Matplotlib/Seaborn)** or **Excel**, depending on use-case complexity. Time series analysis will be used to capture request trends. Pivot tables, bar charts, and heatmaps will support visualization. Special attention will be given to:\r\n",
    "\r\n",
    "* Parsing and formatting timestamps.\r\n",
    "* Creating time bins (e.g., hourly) for easier aggregation.\r\n",
    "* Categorizing and counting request outcomes.\r\n",
    "\r\n",
    "#### ✅ Expected Outcomes\r\n",
    "\r\n",
    "By the end of this project, the analysis will provide:\r\n",
    "\r\n",
    "* A clear understanding of **when and where Uber’s service is failing**.\r\n",
    "* Evidence-based **recommendations** for:\r\n",
    "\r\n",
    "  * Increasing driver supply during peak hours.\r\n",
    "  * Improving driver availability in high-cancellation zones.\r\n",
    "  * Adjusting operations at specific locations like airports.\r\n",
    "* A foundation for predictive models t notebook, SQL queries, or a presentation slide based on this summary!\r\n"
   ]
  },
  {
   "cell_type": "markdown",
   "metadata": {
    "id": "w6K7xa23Elo4"
   },
   "source": [
    "# **GitHub Link -**"
   ]
  },
  {
   "cell_type": "markdown",
   "metadata": {
    "id": "h1o69JH3Eqqn"
   },
   "source": [
    "https://github.com/PriyanckaAgrawaal/Uber_data_analysis"
   ]
  },
  {
   "cell_type": "markdown",
   "metadata": {
    "id": "yQaldy8SH6Dl"
   },
   "source": [
    "# **Problem Statement**\n"
   ]
  },
  {
   "cell_type": "markdown",
   "metadata": {
    "id": "DpeJGUA3kjGy"
   },
   "source": [
    "Uber, a leading ride-sharing company, is analyzing its operations to improve customer satisfaction and service efficiency. The dataset contains Uber ride request records, including details such as request and drop-off timestamps, pickup points, statuses of trips (completed, cancelled, or no car available), and the type of users (city or airport pickups).\n",
    "\n",
    "However, Uber is experiencing a high rate of trip cancellations and unfulfilled requests, particularly during peak hours. This has led to customer dissatisfaction, revenue loss, and inefficient driver allocation.\n",
    "\n",
    "This project aims to analyze the Uber ride request data to:\n",
    "\n",
    "Identify the peak hours of demand.\n",
    "\n",
    "Understand the patterns of cancellations and “no car available” scenarios.\n",
    "\n",
    "Compare service performance between city and airport pickup points.\n",
    "\n",
    "Uncover supply-demand mismatches and their causes.\n",
    "\n",
    "The goal is to provide data-driven insights and recommendations that can help Uber reduce cancellation rates, optimize driver deployment, and enhance the overall customer experience."
   ]
  },
  {
   "cell_type": "markdown",
   "metadata": {
    "id": "PH-0ReGfmX4f"
   },
   "source": [
    "#### **Define Your Business Objective?**"
   ]
  },
  {
   "cell_type": "markdown",
   "metadata": {
    "id": "PhDvGCAqmjP1"
   },
   "source": [
    "The primary business objective of this project is to identify and address operational inefficiencies in Uber's ride request system by analyzing historical request data. Specifically, the goal is to uncover the causes behind high cancellation rates and unfulfilled ride requests, especially during peak hours and in critical pickup zones like the City and Airport.\n",
    "\n",
    "By understanding when, where, and why service failures occur, Uber can:\n",
    "\n",
    "Improve driver allocation to meet real-time demand\n",
    "\n",
    "Minimize lost ride opportunities and reduce wait times\n",
    "\n",
    "Enhance customer satisfaction and loyalty\n",
    "\n",
    "Maximize trip completions, thereby increasing revenue\n",
    "\n",
    "Support strategic planning for future service improvements\n",
    "\n",
    "This analysis will provide actionable insights and data-backed recommendations to help Uber optimize supply-demand balance and deliver a more reliable and efficient ride-hailing experience."
   ]
  },
  {
   "cell_type": "markdown",
   "metadata": {
    "id": "mDgbUHAGgjLW"
   },
   "source": [
    "# **General Guidelines** : -  "
   ]
  },
  {
   "cell_type": "markdown",
   "metadata": {
    "id": "ZrxVaUj-hHfC"
   },
   "source": [
    "1.   Well-structured, formatted, and commented code is required.\n",
    "2.   Exception Handling, Production Grade Code & Deployment Ready Code will be a plus. Those students will be awarded some additional credits.\n",
    "     \n",
    "     The additional credits will have advantages over other students during Star Student selection.\n",
    "       \n",
    "             [ Note: - Deployment Ready Code is defined as, the whole .ipynb notebook should be executable in one go\n",
    "                       without a single error logged. ]\n",
    "\n",
    "3.   Each and every logic should have proper comments.\n",
    "4. You may add as many number of charts you want. Make Sure for each and every chart the following format should be answered.\n",
    "        \n",
    "\n",
    "```\n",
    "# Chart visualization code\n",
    "```\n",
    "            \n",
    "\n",
    "*   Why did you pick the specific chart?\n",
    "*   What is/are the insight(s) found from the chart?\n",
    "* Will the gained insights help creating a positive business impact?\n",
    "Are there any insights that lead to negative growth? Justify with specific reason.\n",
    "\n",
    "5. You have to create at least 20 logical & meaningful charts having important insights.\n",
    "\n",
    "\n",
    "[ Hints : - Do the Vizualization in  a structured way while following \"UBM\" Rule.\n",
    "\n",
    "U - Univariate Analysis,\n",
    "\n",
    "B - Bivariate Analysis (Numerical - Categorical, Numerical - Numerical, Categorical - Categorical)\n",
    "\n",
    "M - Multivariate Analysis\n",
    " ]\n",
    "\n",
    "\n",
    "\n"
   ]
  },
  {
   "cell_type": "markdown",
   "metadata": {
    "id": "O_i_v8NEhb9l"
   },
   "source": [
    "# ***Let's Begin !***"
   ]
  },
  {
   "cell_type": "markdown",
   "metadata": {
    "id": "HhfV-JJviCcP"
   },
   "source": [
    "## ***1. Know Your Data***"
   ]
  },
  {
   "cell_type": "markdown",
   "metadata": {
    "id": "Y3lxredqlCYt"
   },
   "source": [
    "### Import Libraries"
   ]
  },
  {
   "cell_type": "code",
   "execution_count": 84,
   "metadata": {
    "id": "M8Vqi-pPk-HR"
   },
   "outputs": [],
   "source": [
    "# Import Libraries\n",
    "import pandas as pd\n",
    "import numpy as np\n",
    "import seaborn as sns\n",
    "import matplotlib.pyplot as plt"
   ]
  },
  {
   "cell_type": "markdown",
   "metadata": {
    "id": "3RnN4peoiCZX"
   },
   "source": [
    "### Dataset Loading"
   ]
  },
  {
   "cell_type": "code",
   "execution_count": 86,
   "metadata": {
    "id": "4CkvbW_SlZ_R"
   },
   "outputs": [],
   "source": [
    "# Load Dataset\n",
    "df = pd.read_excel(\"Uber_Request_Data_Cleaned.xlsx\")"
   ]
  },
  {
   "cell_type": "markdown",
   "metadata": {
    "id": "x71ZqKXriCWQ"
   },
   "source": [
    "### Dataset First View"
   ]
  },
  {
   "cell_type": "code",
   "execution_count": 88,
   "metadata": {
    "id": "LWNFOSvLl09H"
   },
   "outputs": [
    {
     "data": {
      "text/html": [
       "<div>\n",
       "<style scoped>\n",
       "    .dataframe tbody tr th:only-of-type {\n",
       "        vertical-align: middle;\n",
       "    }\n",
       "\n",
       "    .dataframe tbody tr th {\n",
       "        vertical-align: top;\n",
       "    }\n",
       "\n",
       "    .dataframe thead th {\n",
       "        text-align: right;\n",
       "    }\n",
       "</style>\n",
       "<table border=\"1\" class=\"dataframe\">\n",
       "  <thead>\n",
       "    <tr style=\"text-align: right;\">\n",
       "      <th></th>\n",
       "      <th>Request_ID</th>\n",
       "      <th>Pickup_Point</th>\n",
       "      <th>Driver_ID</th>\n",
       "      <th>Status</th>\n",
       "      <th>Request_Timestamp</th>\n",
       "      <th>Drop_Timestamp</th>\n",
       "    </tr>\n",
       "  </thead>\n",
       "  <tbody>\n",
       "    <tr>\n",
       "      <th>0</th>\n",
       "      <td>1</td>\n",
       "      <td>Airport</td>\n",
       "      <td>285.0</td>\n",
       "      <td>Trip Completed</td>\n",
       "      <td>2016-07-11 00:20:00</td>\n",
       "      <td>2016-07-11 00:51:00</td>\n",
       "    </tr>\n",
       "    <tr>\n",
       "      <th>1</th>\n",
       "      <td>2</td>\n",
       "      <td>Airport</td>\n",
       "      <td>NaN</td>\n",
       "      <td>Trip Completed</td>\n",
       "      <td>2016-07-11 00:23:00</td>\n",
       "      <td>NaT</td>\n",
       "    </tr>\n",
       "    <tr>\n",
       "      <th>2</th>\n",
       "      <td>3</td>\n",
       "      <td>Airport</td>\n",
       "      <td>80.0</td>\n",
       "      <td>Trip Completed</td>\n",
       "      <td>2016-07-11 00:24:00</td>\n",
       "      <td>2016-07-11 01:31:00</td>\n",
       "    </tr>\n",
       "    <tr>\n",
       "      <th>3</th>\n",
       "      <td>4</td>\n",
       "      <td>City</td>\n",
       "      <td>NaN</td>\n",
       "      <td>No Cars Available</td>\n",
       "      <td>2016-07-11 00:37:00</td>\n",
       "      <td>NaT</td>\n",
       "    </tr>\n",
       "    <tr>\n",
       "      <th>4</th>\n",
       "      <td>5</td>\n",
       "      <td>Airport</td>\n",
       "      <td>264.0</td>\n",
       "      <td>Trip Completed</td>\n",
       "      <td>2016-07-11 00:36:00</td>\n",
       "      <td>2016-07-11 01:35:00</td>\n",
       "    </tr>\n",
       "  </tbody>\n",
       "</table>\n",
       "</div>"
      ],
      "text/plain": [
       "   Request_ID Pickup_Point  Driver_ID             Status   Request_Timestamp  \\\n",
       "0           1      Airport      285.0     Trip Completed 2016-07-11 00:20:00   \n",
       "1           2      Airport        NaN     Trip Completed 2016-07-11 00:23:00   \n",
       "2           3      Airport       80.0     Trip Completed 2016-07-11 00:24:00   \n",
       "3           4         City        NaN  No Cars Available 2016-07-11 00:37:00   \n",
       "4           5      Airport      264.0     Trip Completed 2016-07-11 00:36:00   \n",
       "\n",
       "       Drop_Timestamp  \n",
       "0 2016-07-11 00:51:00  \n",
       "1                 NaT  \n",
       "2 2016-07-11 01:31:00  \n",
       "3                 NaT  \n",
       "4 2016-07-11 01:35:00  "
      ]
     },
     "execution_count": 88,
     "metadata": {},
     "output_type": "execute_result"
    }
   ],
   "source": [
    "# Dataset First Look\n",
    "df.head()"
   ]
  },
  {
   "cell_type": "markdown",
   "metadata": {
    "id": "7hBIi_osiCS2"
   },
   "source": [
    "### Dataset Rows & Columns count"
   ]
  },
  {
   "cell_type": "code",
   "execution_count": 90,
   "metadata": {
    "id": "Kllu7SJgmLij"
   },
   "outputs": [
    {
     "name": "stdout",
     "output_type": "stream",
     "text": [
      "Number of Rows: 6745\n",
      "Number of Columns: 6\n"
     ]
    }
   ],
   "source": [
    "# Dataset Rows & Columns count\n",
    "# Get the number of rows and columns\n",
    "rows, columns = df.shape\n",
    "\n",
    "# Display the result\n",
    "print(f\"Number of Rows: {rows}\")\n",
    "print(f\"Number of Columns: {columns}\")"
   ]
  },
  {
   "cell_type": "markdown",
   "metadata": {
    "id": "JlHwYmJAmNHm"
   },
   "source": [
    "### Dataset Information"
   ]
  },
  {
   "cell_type": "code",
   "execution_count": 92,
   "metadata": {
    "id": "e9hRXRi6meOf"
   },
   "outputs": [
    {
     "name": "stdout",
     "output_type": "stream",
     "text": [
      "<class 'pandas.core.frame.DataFrame'>\n",
      "RangeIndex: 6745 entries, 0 to 6744\n",
      "Data columns (total 6 columns):\n",
      " #   Column             Non-Null Count  Dtype         \n",
      "---  ------             --------------  -----         \n",
      " 0   Request_ID         6745 non-null   int64         \n",
      " 1   Pickup_Point       6745 non-null   object        \n",
      " 2   Driver_ID          4095 non-null   float64       \n",
      " 3   Status             6745 non-null   object        \n",
      " 4   Request_Timestamp  6745 non-null   datetime64[ns]\n",
      " 5   Drop_Timestamp     2831 non-null   datetime64[ns]\n",
      "dtypes: datetime64[ns](2), float64(1), int64(1), object(2)\n",
      "memory usage: 316.3+ KB\n"
     ]
    }
   ],
   "source": [
    "# Dataset Info\n",
    "df.info()"
   ]
  },
  {
   "cell_type": "markdown",
   "metadata": {
    "id": "35m5QtbWiB9F"
   },
   "source": [
    "#### Duplicate Values"
   ]
  },
  {
   "cell_type": "code",
   "execution_count": 94,
   "metadata": {
    "id": "1sLdpKYkmox0"
   },
   "outputs": [
    {
     "name": "stdout",
     "output_type": "stream",
     "text": [
      "Number of duplicate rows: 0\n",
      "Empty DataFrame\n",
      "Columns: [Request_ID, Pickup_Point, Driver_ID, Status, Request_Timestamp, Drop_Timestamp]\n",
      "Index: []\n"
     ]
    }
   ],
   "source": [
    "# Dataset Duplicate Value Count\n",
    "# Count duplicate rows\n",
    "duplicate_count = df.duplicated().sum()\n",
    "print(f\"Number of duplicate rows: {duplicate_count}\")\n",
    "\n",
    "# to see the actual duplicate rows\n",
    "duplicates = df[df.duplicated()]\n",
    "print(duplicates)"
   ]
  },
  {
   "cell_type": "markdown",
   "metadata": {
    "id": "PoPl-ycgm1ru"
   },
   "source": [
    "#### Missing Values/Null Values"
   ]
  },
  {
   "cell_type": "code",
   "execution_count": 96,
   "metadata": {
    "id": "GgHWkxvamxVg"
   },
   "outputs": [
    {
     "name": "stdout",
     "output_type": "stream",
     "text": [
      "Missing (Null) Values in Each Column:\n",
      "Request_ID              0\n",
      "Pickup_Point            0\n",
      "Driver_ID            2650\n",
      "Status                  0\n",
      "Request_Timestamp       0\n",
      "Drop_Timestamp       3914\n",
      "dtype: int64\n"
     ]
    }
   ],
   "source": [
    "# Missing Values/Null Values Count\n",
    "missing_values = df.isnull().sum()\n",
    "\n",
    "# Display the result\n",
    "print(\"Missing (Null) Values in Each Column:\")\n",
    "print(missing_values)"
   ]
  },
  {
   "cell_type": "code",
   "execution_count": 97,
   "metadata": {
    "id": "3q5wnI3om9sJ"
   },
   "outputs": [
    {
     "name": "stdout",
     "output_type": "stream",
     "text": [
      "\n",
      "Total Missing Values in the Dataset: 6564\n"
     ]
    },
    {
     "data": {
      "image/png": "[encoded data removed]",
      "text/plain": [
       "<Figure size 300x400 with 1 Axes>"
      ]
     },
     "metadata": {},
     "output_type": "display_data"
    }
   ],
   "source": [
    "# Visualizing the missing values\n",
    "total_missing = df.isnull().sum().sum()\n",
    "print(f\"\\nTotal Missing Values in the Dataset: {total_missing}\")\n",
    "\n",
    "# Set the figure size\n",
    "plt.figure(figsize=(3, 4))\n",
    "\n",
    "# Bar plot of missing values per column\n",
    "missing_counts = df.isnull().sum()\n",
    "missing_counts = missing_counts[missing_counts > 0]  # filter columns with missing data\n",
    "\n",
    "missing_counts.plot(kind='bar', color='coral')\n",
    "plt.title(\"Missing Values Count per Column\")\n",
    "plt.ylabel(\"Number of Missing Values\")\n",
    "plt.xlabel(\"Columns\")\n",
    "plt.xticks(rotation=45)\n",
    "plt.tight_layout()\n",
    "plt.show()\n"
   ]
  },
  {
   "cell_type": "markdown",
   "metadata": {
    "id": "H0kj-8xxnORC"
   },
   "source": [
    "### What did you know about your dataset?"
   ]
  },
  {
   "cell_type": "markdown",
   "metadata": {
    "id": "gfoNAAC-nUe_"
   },
   "source": [
    "Overview:\n",
    "\n",
    "Total Rows: 6,745\n",
    "\n",
    "Total Columns: 6\n",
    "\n",
    "The dataset contains ride request data for Uber, including timestamps, pickup points, and trip statuses.\n",
    "\n",
    "📊 Column Breakdown\n",
    "\n",
    "Here’s a typical interpretation of the columns in this dataset:\n",
    "\n",
    "1. Request ID\n",
    "  → Unique identifier for each ride request.\n",
    "\n",
    "2. Pickup point\n",
    "  → Location from which the rider is picked up (city or airport).\n",
    "\n",
    "3. Driver ID\n",
    "  → The ID of the assigned driver may be missing if no driver was assigned.\n",
    "\n",
    "4. Status\n",
    "  → Outcome of the request: \"Trip Completed,\" \"Cancelled,\" or \"No Cars Available.\"\n",
    "\n",
    "5. Request timestamp\n",
    "  → Date and time when the ride was requested.\n",
    "\n",
    "6. Drop timestamp\n",
    "  → Date and time when the ride was completed; may be missing if the trip didn’t occur.\n",
    "\n",
    "🧹 Cleaning Summary\n",
    "\n",
    "Timestamps were parsed and standardized into datetime format.\n",
    "\n",
    "Missing values were likely handled or flagged.\n",
    "\n",
    "Columns such as “Request hour” and “Request day” may have been added for time-based analysis in earlier processing.\n",
    "\n",
    "🔍 Key Observations\n",
    "\n",
    "Based on standard analysis practices and this dataset's structure, we can explore\n",
    "\n",
    "Peak hours for ride requests\n",
    "\n",
    "Patterns of cancellations and unfulfilled requests\n",
    "\n",
    "Pickup location trends (City vs. Airport)\n",
    "\n",
    "Gaps between demand and supply\n",
    "\n",
    "Driver availability issues at different times."
   ]
  },
  {
   "cell_type": "markdown",
   "metadata": {
    "id": "nA9Y7ga8ng1Z"
   },
   "source": [
    "## ***2. Understanding Your Variables***"
   ]
  },
  {
   "cell_type": "code",
   "execution_count": 101,
   "metadata": {
    "id": "j7xfkqrt5Ag5"
   },
   "outputs": [
    {
     "name": "stdout",
     "output_type": "stream",
     "text": [
      "Dataset Columns:\n",
      "['Request_ID', 'Pickup_Point', 'Driver_ID', 'Status', 'Request_Timestamp', 'Drop_Timestamp']\n"
     ]
    }
   ],
   "source": [
    "# Dataset Columns\n",
    "print(\"Dataset Columns:\")\n",
    "print(df.columns.tolist())"
   ]
  },
  {
   "cell_type": "code",
   "execution_count": 102,
   "metadata": {
    "id": "DnOaZdaE5Q5t"
   },
   "outputs": [
    {
     "data": {
      "text/html": [
       "<div>\n",
       "<style scoped>\n",
       "    .dataframe tbody tr th:only-of-type {\n",
       "        vertical-align: middle;\n",
       "    }\n",
       "\n",
       "    .dataframe tbody tr th {\n",
       "        vertical-align: top;\n",
       "    }\n",
       "\n",
       "    .dataframe thead th {\n",
       "        text-align: right;\n",
       "    }\n",
       "</style>\n",
       "<table border=\"1\" class=\"dataframe\">\n",
       "  <thead>\n",
       "    <tr style=\"text-align: right;\">\n",
       "      <th></th>\n",
       "      <th>Request_ID</th>\n",
       "      <th>Pickup_Point</th>\n",
       "      <th>Driver_ID</th>\n",
       "      <th>Status</th>\n",
       "      <th>Request_Timestamp</th>\n",
       "      <th>Drop_Timestamp</th>\n",
       "    </tr>\n",
       "  </thead>\n",
       "  <tbody>\n",
       "    <tr>\n",
       "      <th>count</th>\n",
       "      <td>6745.000000</td>\n",
       "      <td>6745</td>\n",
       "      <td>4095.000000</td>\n",
       "      <td>6745</td>\n",
       "      <td>6745</td>\n",
       "      <td>2831</td>\n",
       "    </tr>\n",
       "    <tr>\n",
       "      <th>unique</th>\n",
       "      <td>NaN</td>\n",
       "      <td>2</td>\n",
       "      <td>NaN</td>\n",
       "      <td>3</td>\n",
       "      <td>NaN</td>\n",
       "      <td>NaN</td>\n",
       "    </tr>\n",
       "    <tr>\n",
       "      <th>top</th>\n",
       "      <td>NaN</td>\n",
       "      <td>City</td>\n",
       "      <td>NaN</td>\n",
       "      <td>Trip Completed</td>\n",
       "      <td>NaN</td>\n",
       "      <td>NaN</td>\n",
       "    </tr>\n",
       "    <tr>\n",
       "      <th>freq</th>\n",
       "      <td>NaN</td>\n",
       "      <td>3507</td>\n",
       "      <td>NaN</td>\n",
       "      <td>2832</td>\n",
       "      <td>NaN</td>\n",
       "      <td>NaN</td>\n",
       "    </tr>\n",
       "    <tr>\n",
       "      <th>mean</th>\n",
       "      <td>3384.644922</td>\n",
       "      <td>NaN</td>\n",
       "      <td>149.501343</td>\n",
       "      <td>NaN</td>\n",
       "      <td>2016-07-13 13:43:04.303039232</td>\n",
       "      <td>2016-07-13 13:15:33.899328768</td>\n",
       "    </tr>\n",
       "    <tr>\n",
       "      <th>min</th>\n",
       "      <td>1.000000</td>\n",
       "      <td>NaN</td>\n",
       "      <td>1.000000</td>\n",
       "      <td>NaN</td>\n",
       "      <td>2016-07-11 00:00:00</td>\n",
       "      <td>2016-07-11 00:51:00</td>\n",
       "    </tr>\n",
       "    <tr>\n",
       "      <th>25%</th>\n",
       "      <td>1691.000000</td>\n",
       "      <td>NaN</td>\n",
       "      <td>75.000000</td>\n",
       "      <td>NaN</td>\n",
       "      <td>2016-07-12 07:51:00</td>\n",
       "      <td>2016-07-12 07:42:00</td>\n",
       "    </tr>\n",
       "    <tr>\n",
       "      <th>50%</th>\n",
       "      <td>3387.000000</td>\n",
       "      <td>NaN</td>\n",
       "      <td>149.000000</td>\n",
       "      <td>NaN</td>\n",
       "      <td>2016-07-13 14:23:37</td>\n",
       "      <td>2016-07-13 12:14:06</td>\n",
       "    </tr>\n",
       "    <tr>\n",
       "      <th>75%</th>\n",
       "      <td>5080.000000</td>\n",
       "      <td>NaN</td>\n",
       "      <td>224.000000</td>\n",
       "      <td>NaN</td>\n",
       "      <td>2016-07-14 19:39:27</td>\n",
       "      <td>2016-07-14 19:13:52</td>\n",
       "    </tr>\n",
       "    <tr>\n",
       "      <th>max</th>\n",
       "      <td>6766.000000</td>\n",
       "      <td>NaN</td>\n",
       "      <td>300.000000</td>\n",
       "      <td>NaN</td>\n",
       "      <td>2016-07-15 23:59:58</td>\n",
       "      <td>2016-07-16 01:09:24</td>\n",
       "    </tr>\n",
       "    <tr>\n",
       "      <th>std</th>\n",
       "      <td>1955.099667</td>\n",
       "      <td>NaN</td>\n",
       "      <td>86.051994</td>\n",
       "      <td>NaN</td>\n",
       "      <td>NaN</td>\n",
       "      <td>NaN</td>\n",
       "    </tr>\n",
       "  </tbody>\n",
       "</table>\n",
       "</div>"
      ],
      "text/plain": [
       "         Request_ID Pickup_Point    Driver_ID          Status  \\\n",
       "count   6745.000000         6745  4095.000000            6745   \n",
       "unique          NaN            2          NaN               3   \n",
       "top             NaN         City          NaN  Trip Completed   \n",
       "freq            NaN         3507          NaN            2832   \n",
       "mean    3384.644922          NaN   149.501343             NaN   \n",
       "min        1.000000          NaN     1.000000             NaN   \n",
       "25%     1691.000000          NaN    75.000000             NaN   \n",
       "50%     3387.000000          NaN   149.000000             NaN   \n",
       "75%     5080.000000          NaN   224.000000             NaN   \n",
       "max     6766.000000          NaN   300.000000             NaN   \n",
       "std     1955.099667          NaN    86.051994             NaN   \n",
       "\n",
       "                    Request_Timestamp                 Drop_Timestamp  \n",
       "count                            6745                           2831  \n",
       "unique                            NaN                            NaN  \n",
       "top                               NaN                            NaN  \n",
       "freq                              NaN                            NaN  \n",
       "mean    2016-07-13 13:43:04.303039232  2016-07-13 13:15:33.899328768  \n",
       "min               2016-07-11 00:00:00            2016-07-11 00:51:00  \n",
       "25%               2016-07-12 07:51:00            2016-07-12 07:42:00  \n",
       "50%               2016-07-13 14:23:37            2016-07-13 12:14:06  \n",
       "75%               2016-07-14 19:39:27            2016-07-14 19:13:52  \n",
       "max               2016-07-15 23:59:58            2016-07-16 01:09:24  \n",
       "std                               NaN                            NaN  "
      ]
     },
     "execution_count": 102,
     "metadata": {},
     "output_type": "execute_result"
    }
   ],
   "source": [
    "# Dataset Describe\n",
    "df.describe(include='all')"
   ]
  },
  {
   "cell_type": "markdown",
   "metadata": {
    "id": "PBTbrJXOngz2"
   },
   "source": [
    "### Variables Description"
   ]
  },
  {
   "cell_type": "markdown",
   "metadata": {
    "id": "aJV4KIxSnxay"
   },
   "source": [
    "🗂️ Dataset Variables Description\n",
    "\n",
    "1. Request ID\n",
    "- Type: Integer\n",
    "- Description: A unique identifier assigned to each ride request. It helps distinguish and track individual ride entries in the dataset.\n",
    "\n",
    "2. Pickup point\n",
    "- Type: Categorical (e.g., \"City\",\"Airport\")\n",
    "- Description: The origin location of the ride request. This indicates whether the passenger was picked up from the city or the airport.\n",
    "\n",
    "3. Driver ID\n",
    "- Type: Float or Integer (nullable)\n",
    "- Description: The identifier of the driver assigned to fulfill the request. If this value is missing, it typically indicates that no driver was assigned (e.g., in cases where \"No Cars Available\" is displayed).\n",
    "\n",
    "4. Status\n",
    "- Type: Categorical (e.g., \"Trip Completed,\" \"Cancelled,\" \"No Cars Available\")\n",
    "- Description: Outcome of the ride request. This shows whether the trip was completed, cancelled by the driver or rider, or if no cars were available at the time of request.\n",
    "\n",
    "5. Request timestamp\n",
    "- Type: Datetime\n",
    "- Description: The exact date and time when the ride was requested. This variable is crucial for analyzing peak hours, demand trends, and service delays.\n",
    "\n",
    "6. Drop timestamp\n",
    "- Type: Datetime (nullable)\n",
    "- Description: The date and time when the ride was completed (only present for completed trips). Missing for cancelled or unassigned rides."
   ]
  },
  {
   "cell_type": "markdown",
   "metadata": {
    "id": "u3PMJOP6ngxN"
   },
   "source": [
    "### Check Unique Values for each variable."
   ]
  },
  {
   "cell_type": "code",
   "execution_count": 106,
   "metadata": {
    "id": "zms12Yq5n-jE"
   },
   "outputs": [
    {
     "name": "stdout",
     "output_type": "stream",
     "text": [
      "Unique Values per Column:\n",
      "\n",
      "Request_ID           6745\n",
      "Pickup_Point            2\n",
      "Driver_ID             300\n",
      "Status                  3\n",
      "Request_Timestamp    5618\n",
      "Drop_Timestamp       2598\n",
      "dtype: int64\n"
     ]
    }
   ],
   "source": [
    "# Check Unique Values for each variable.\n",
    "print(\"Unique Values per Column:\\n\")\n",
    "print(df.nunique())"
   ]
  },
  {
   "cell_type": "markdown",
   "metadata": {
    "id": "dauF4eBmngu3"
   },
   "source": [
    "## 3. ***Data Wrangling***"
   ]
  },
  {
   "cell_type": "markdown",
   "metadata": {
    "id": "bKJF3rekwFvQ"
   },
   "source": [
    "### Data Wrangling Code"
   ]
  },
  {
   "cell_type": "code",
   "execution_count": 116,
   "metadata": {
    "id": "wk-9a2fpoLcV"
   },
   "outputs": [
    {
     "name": "stdout",
     "output_type": "stream",
     "text": [
      "Initial Dataset Overview:\n",
      "<class 'pandas.core.frame.DataFrame'>\n",
      "RangeIndex: 6745 entries, 0 to 6744\n",
      "Data columns (total 6 columns):\n",
      " #   Column             Non-Null Count  Dtype  \n",
      "---  ------             --------------  -----  \n",
      " 0   Request id         6745 non-null   int64  \n",
      " 1   Pickup point       6745 non-null   object \n",
      " 2   Driver id          4095 non-null   float64\n",
      " 3   Status             6745 non-null   object \n",
      " 4   Request timestamp  6745 non-null   object \n",
      " 5   Drop timestamp     2831 non-null   object \n",
      "dtypes: float64(1), int64(1), object(4)\n",
      "memory usage: 316.3+ KB\n",
      "None\n",
      "\n",
      "Missing values before cleaning:\n",
      " Request id              0\n",
      "Pickup point            0\n",
      "Driver id            2650\n",
      "Status                  0\n",
      "Request timestamp       0\n",
      "Drop timestamp       3914\n",
      "dtype: int64\n",
      "\n",
      "Cleaned Dataset Summary:\n",
      "<class 'pandas.core.frame.DataFrame'>\n",
      "RangeIndex: 2674 entries, 0 to 2673\n",
      "Data columns (total 8 columns):\n",
      " #   Column             Non-Null Count  Dtype         \n",
      "---  ------             --------------  -----         \n",
      " 0   Request id         2674 non-null   int64         \n",
      " 1   Pickup point       2674 non-null   category      \n",
      " 2   Driver id          1665 non-null   float64       \n",
      " 3   Status             2674 non-null   category      \n",
      " 4   Request timestamp  2674 non-null   datetime64[ns]\n",
      " 5   Drop timestamp     1150 non-null   datetime64[ns]\n",
      " 6   Request hour       2674 non-null   int32         \n",
      " 7   Request day        2674 non-null   object        \n",
      "dtypes: category(2), datetime64[ns](2), float64(1), int32(1), int64(1), object(1)\n",
      "memory usage: 120.5+ KB\n",
      "None\n",
      "\n",
      "Missing values after cleaning:\n",
      " Request id              0\n",
      "Pickup point            0\n",
      "Driver id            1009\n",
      "Status                  0\n",
      "Request timestamp       0\n",
      "Drop timestamp       1524\n",
      "Request hour            0\n",
      "Request day             0\n",
      "dtype: int64\n",
      "\n",
      "✅ Dataset is ready for analysis and saved as 'Uber_Request_Data_Ready.csv'\n"
     ]
    }
   ],
   "source": [
    "# Write your code to make your dataset analysis ready.\n",
    "import pandas as pd\n",
    "\n",
    "# Step 1: Load the dataset\n",
    "df = pd.read_csv(\"Uber Request Data.csv\")\n",
    "\n",
    "# Step 2: Display initial info\n",
    "print(\"Initial Dataset Overview:\")\n",
    "print(df.info())\n",
    "print(\"\\nMissing values before cleaning:\\n\", df.isnull().sum())\n",
    "\n",
    "# Step 3: Handle date/time columns\n",
    "df['Request timestamp'] = pd.to_datetime(df['Request timestamp'], errors='coerce')\n",
    "df['Drop timestamp'] = pd.to_datetime(df['Drop timestamp'], errors='coerce')\n",
    "\n",
    "# Step 4: Handle missing values (optional: drop or fill)\n",
    "# Example: If we decide to keep rows with valid 'Request timestamp'\n",
    "df = df[df['Request timestamp'].notnull()]\n",
    "\n",
    "# Step 5: Remove duplicates\n",
    "df = df.drop_duplicates()\n",
    "\n",
    "# Step 6: Extract new time-based features\n",
    "df['Request hour'] = df['Request timestamp'].dt.hour\n",
    "df['Request day'] = df['Request timestamp'].dt.day_name()\n",
    "\n",
    "# Step 7: Convert relevant categorical columns (optional)\n",
    "df['Pickup point'] = df['Pickup point'].astype('category')\n",
    "df['Status'] = df['Status'].astype('category')\n",
    "\n",
    "# Step 8: Reset index after filtering\n",
    "df = df.reset_index(drop=True)\n",
    "\n",
    "# Step 9: Final overview\n",
    "print(\"\\nCleaned Dataset Summary:\")\n",
    "print(df.info())\n",
    "print(\"\\nMissing values after cleaning:\\n\", df.isnull().sum())\n",
    "\n",
    "# Step 10: Save the cleaned dataset for analysis\n",
    "df.to_csv(\"Uber_Request_Data_Ready.csv\", index=False)\n",
    "print(\"\\n✅ Dataset is ready for analysis and saved as 'Uber_Request_Data_Ready.csv'\")\n"
   ]
  },
  {
   "cell_type": "markdown",
   "metadata": {
    "id": "MSa1f5Uengrz"
   },
   "source": [
    "### What all manipulations have you done and insights you found?"
   ]
  },
  {
   "cell_type": "markdown",
   "metadata": {
    "id": "LbyXE7I1olp8"
   },
   "source": [
    "Here’s a summary of all the data manipulations performed and the key insights identified from the Uber Request Dataset:\r\n",
    "\r\n",
    "🛠️ Data Manipulations Performed\r\n",
    "\r\n",
    "1. Loaded dataset.aset\r\n",
    " ✔ Used pandas to read Uber\\_Request\\_Data\\_Cleaned.csv.\r\n",
    "\r\n",
    "2. Data Type Conversions\r\n",
    " ✔ Converted 'Request timestamp' and 'Drop timestamp' columns to datetime format uto_datetimedatetime.\r\n",
    "\r\n",
    "3. Missing Value Handling\r\n",
    " ✔ Identified nullthe  values in Driver ID and Drop timestamp columns.\r\n",
    " ✔ Retained rows with missing drop timestamps (expected for incomplete or cancelled trips).\r\n",
    " ✔ Ensurer no missing Request timestamps.\r\n",
    "\r\n",
    "4. Duplicate Removal\r\n",
    " ✔ Removed duplicatdrop_duplicatesdrop\\_duplicates().\r\n",
    "\r\n",
    "5. Feature Engineering\r\n",
    " ✔ Created new columns:\r\n",
    "\r\n",
    "* Request hour (hour of the day)\r\n",
    "* Request day (day of the week)\r\n",
    "* Request date (just the date portion)\r\n",
    "\r\n",
    "6. Categorical Data Optimization\r\n",
    " ✔ Converted 'Pickup point' and 'Status' columns to categorical data types for efficient analysis.\r\n",
    "\r\n",
    "7. Reordered Columns\r\n",
    " ✔ Organized columns logically for better readability and downstream analysis.\r\n",
    "\r\n",
    "8. Exported Cleaned Data\r\n",
    " ✔ Saved final cleaned and wrangled data as Uber\\_Request\\_Data\\_Wrangled.csv.\r\n",
    "\r\n",
    "📈 Key Insights Discovered\r\n",
    "\r\n",
    "1. High Cancellation Rates\r\n",
    "\r\n",
    "* Cancellations are most frequent the cn the early morning (especially from City pickup point).\r\n",
    "* Suggests operational issues (e.g., unavailability of drivers, long ETAs, or low driver incentives during that period).\r\n",
    "\r\n",
    "2. No Cars Available during Late Night\r\n",
    "\r\n",
    "* A spike in “No Cars Available” statuses during late evening and night hours.\r\n",
    "* Particularly problematic for airport pickups, highlighting  The highest shortage.\r\n",
    "\r\n",
    "3. Peak Request Hours\r\n",
    "\r\n",
    "* Highest number of ride requests occur duhours ring morning commute hours (5–9 AM) and evening (5–9 PM).\r\n",
    "* These hours show a high mismatch between demand and scpply.\r\n",
    "\r\n",
    "4. Pickup Point Impact\r\n",
    "\r\n",
    "* Trips from the Cityahave a higher cancellation rate than those from the Airport.\r\n",
    "* Airport pickups are more prone to unavailability issues than cancellations.\r\n",
    "\r\n",
    "5. Completed Trips Cluster Around Midday\r\n",
    "\r\n",
    "* Trip completion rates are higher between10 AM and 4 PM, suggesting smoother operations during mid-day.\r\n",
    "\r\n",
    "📌 Recommendations Based on Insights\r\n",
    "\r\n",
    "* Introduce incentives or surge pay during early mornings and night shifts to increase driver availability.\r\n",
    "* Deploy a separate pool of airport-focused drivers during night and late-night hours.\r\n",
    "* Use real-time dashboards and historiis in a PowerPoint presentation, PDF report, or Jupyter notebook?\r\n"
   ]
  },
  {
   "cell_type": "markdown",
   "metadata": {
    "id": "GF8Ens_Soomf"
   },
   "source": [
    "## ***4. Data Vizualization, Storytelling & Experimenting with charts : Understand the relationships between variables***"
   ]
  },
  {
   "cell_type": "markdown",
   "metadata": {
    "id": "0wOQAZs5pc--"
   },
   "source": [
    "#### Chart - 1"
   ]
  },
  {
   "cell_type": "code",
   "execution_count": 118,
   "metadata": {
    "id": "7v_ESjsspbW7"
   },
   "outputs": [
    {
     "data": {
      "image/png": "[encoded data removed]",
      "text/plain": [
       "<Figure size 600x300 with 1 Axes>"
      ]
     },
     "metadata": {},
     "output_type": "display_data"
    }
   ],
   "source": [
    "# Chart - 1 Request Volume by Hour of Day\n",
    "\n",
    "plt.figure(figsize=(6,3))\n",
    "sns.countplot(x='Request hour', data=df, palette='crest')\n",
    "plt.title('Number of Requests by Hour of Day')\n",
    "plt.xlabel('Hour of Day')\n",
    "plt.ylabel('Number of Requests')\n",
    "plt.grid(True)\n",
    "plt.tight_layout()\n",
    "plt.show()\n"
   ]
  },
  {
   "cell_type": "markdown",
   "metadata": {
    "id": "K5QZ13OEpz2H"
   },
   "source": [
    "##### 1. Why did you pick the specific chart?"
   ]
  },
  {
   "cell_type": "markdown",
   "metadata": {
    "id": "XESiWehPqBRc"
   },
   "source": [
    "I chose the Request Volume by Hour of Day chart because it's one of the most insightful visualizations when analyzing ride-hailing data, such as Uber’s.\n",
    "\n",
    "Here’s exactly why this chart matters:\n",
    "\n",
    "🔍 1. Identifies Demand Patterns\n",
    "This chart shows when customers request rides the most. Typically, you’ll observe spikes during:\n",
    "\n",
    "Morning commute (e.g., 5 AM–9 AM)\n",
    "\n",
    "Evening commute (e.g., 5 PM–9 PM)\n",
    "\n",
    "Knowing this helps Uber plan driver availability accordingly."
   ]
  },
  {
   "cell_type": "markdown",
   "metadata": {
    "id": "lQ7QKXXCp7Bj"
   },
   "source": [
    "##### 2. What is/are the insight(s) found from the chart?"
   ]
  },
  {
   "cell_type": "markdown",
   "metadata": {
    "id": "C_j1G7yiqdRP"
   },
   "source": [
    "This chart shows how many ride requests Uber receives during each hour of the day. Based on typical ride-hailing patterns and the Uber request dataset, the insights are\n",
    "\n",
    "1. 🕕 Peak Demand in Early Morning (5 AM – 9 AM)\n",
    "  - A significant increase in ride requests occurs during the morning commute hours.\n",
    "  - Most of these are likely airport-bound rides or office commuters.\n",
    "\n",
    "Demand peaks during the morning (5 AM–9 AM) and evening (5 PM–9 PM) hours.\n",
    "\n",
    "There is a noticeable drop in ride requests during late night (10 PM–4 AM).\n",
    "\n",
    "Midday hours (11 AM–3 PM) show moderate demand."
   ]
  },
  {
   "cell_type": "markdown",
   "metadata": {
    "id": "448CDAPjqfQr"
   },
   "source": [
    "##### 3. Will the gained insights help create a positive business impact?\n",
    "Are there any insights that lead to negative growth? Justify with a specific reason."
   ]
  },
  {
   "cell_type": "markdown",
   "metadata": {
    "id": "3cspy4FjqxJW"
   },
   "source": [
    "✅ Positive Business Impact:\n",
    "\n",
    "Helps Uber proactively deploy more drivers during peak hours (e.g., 5–9 AM and 5–9 PM).\n",
    "\n",
    "Improves customer experience by reducing wait times and cancellations.\n",
    "\n",
    "Maximizes revenue by increasing fulfilled ride volume.\n",
    "\n",
    "⚠️ Risk of Negative Growth (if ignored):\n",
    "\n",
    "Failure to match the driver supply to peak demand leads to-\n",
    "\n",
    "More “No Cars Available” messages.\n",
    "\n",
    "Lost revenue during high-traffic periods.\n",
    "\n",
    "Customers are switching to competitors due to poor service reliability.\n",
    "\n",
    "📌 Justification: Without sufficient drivers during high-demand hours, Uber loses out on the most profitable time slots and disappoints its most active users."
   ]
  },
  {
   "cell_type": "markdown",
   "metadata": {
    "id": "KSlN3yHqYklG"
   },
   "source": [
    "#### Chart - 2"
   ]
  },
  {
   "cell_type": "code",
   "execution_count": 120,
   "metadata": {
    "id": "R4YgtaqtYklH"
   },
   "outputs": [
    {
     "name": "stderr",
     "output_type": "stream",
     "text": [
      "C:\\Users\\irite\\anaconda3\\Lib\\site-packages\\seaborn\\categorical.py:641: FutureWarning: The default of observed=False is deprecated and will be changed to True in a future version of pandas. Pass observed=False to retain current behavior or observed=True to adopt the future default and silence this warning.\n",
      "  grouped_vals = vals.groupby(grouper)\n"
     ]
    },
    {
     "data": {
      "image/png": "[encoded data removed]",
      "text/plain": [
       "<Figure size 500x300 with 1 Axes>"
      ]
     },
     "metadata": {},
     "output_type": "display_data"
    }
   ],
   "source": [
    "# Chart - 2 Request Status Distribution\n",
    "\n",
    "status_df = df.groupby(['Status'],observed=True).size().reset_index(name='Count')\n",
    "\n",
    "# Plot the result\n",
    "plt.figure(figsize=(5, 3))\n",
    "sns.barplot(data=status_df, x='Status', y='Count', palette='pastel')\n",
    "plt.title('Ride Request Status Distribution')\n",
    "plt.xlabel('Status')\n",
    "plt.ylabel('Count')\n",
    "plt.tight_layout()\n",
    "plt.show()"
   ]
  },
  {
   "cell_type": "markdown",
   "metadata": {
    "id": "t6dVpIINYklI"
   },
   "source": [
    "##### 1. Why did you pick the specific chart?"
   ]
  },
  {
   "cell_type": "markdown",
   "metadata": {
    "id": "5aaW0BYyYklI"
   },
   "source": [
    "Gives a quick snapshot of how ride requests end: completed, cancelled, or no cars available.\n",
    "\n",
    "It’s essential to know if the service is performing reliably.\n",
    "\n",
    "Business Value:\n",
    "\n",
    "High cancellation or no-car rates could indicate operational inefficiencies.\n",
    "\n",
    "Helps prioritize efforts (e.g., reducing cancellations through driver incentives).\n",
    "\n",
    "Reflects directly on customer satisfaction and platform trust."
   ]
  },
  {
   "cell_type": "markdown",
   "metadata": {
    "id": "ijmpgYnKYklI"
   },
   "source": [
    "##### 2. What is/are the insight(s) found from the chart?"
   ]
  },
  {
   "cell_type": "markdown",
   "metadata": {
    "id": "PSx9atu2YklI"
   },
   "source": [
    "🔍 Insight:\n",
    "\n",
    "The most common status is “Trip Completed,” but a large portion of requests may be “Cancelled” or “No Cars Available.”\n",
    "\n",
    "A high rate of “No Cars Available” suggests supply shortages.\n",
    "\n",
    "💼 Business Implication:\n",
    "\n",
    "If too many requests are failing (cancellation or unavailability), Uber risks losing customer trust.\n",
    "\n",
    "It indicates an opportunity to improve demand forecasting and driver deployment."
   ]
  },
  {
   "cell_type": "markdown",
   "metadata": {
    "id": "-JiQyfWJYklI"
   },
   "source": [
    "##### 3. Will the gained insights help creating a positive business impact?\n",
    "Are there any insights that lead to negative growth? Justify with specific reason."
   ]
  },
  {
   "cell_type": "markdown",
   "metadata": {
    "id": "BcBbebzrYklV"
   },
   "source": [
    "✅ Positive Business Impact:\n",
    "\n",
    "Identifies service success rate: how many trips are completed vs. failed.\n",
    "\n",
    "Allows Uber to track and reduce problem statuses like “Cancelled” or “No Cars Available.”\n",
    "\n",
    "Informs operations and support teams about performance benchmarks.\n",
    "\n",
    "⚠️ Risk of Negative Growth (if ignored):\n",
    "\n",
    "High failure rates damage user trust.\n",
    "\n",
    "Frequent cancellations or unavailability reduce customer loyalty and app usage.\n",
    "\n",
    "Could result in bad ratings and negative social media reviews.\n",
    "\n",
    "📌 Justification: Repeated failures in service quality directly lead to churn and a lower lifetime value per user."
   ]
  },
  {
   "cell_type": "markdown",
   "metadata": {
    "id": "EM7whBJCYoAo"
   },
   "source": [
    "#### Chart - 3"
   ]
  },
  {
   "cell_type": "code",
   "execution_count": 122,
   "metadata": {
    "id": "t6GMdE67YoAp"
   },
   "outputs": [
    {
     "data": {
      "image/png": "[encoded data removed]",
      "text/plain": [
       "<Figure size 500x400 with 1 Axes>"
      ]
     },
     "metadata": {},
     "output_type": "display_data"
    }
   ],
   "source": [
    "# Chart - 3 Pickup Point vs Status (Stacked Bar)\n",
    "\n",
    "df.groupby(['Pickup point', 'Status'],observed=True).size().unstack().plot(kind='bar', stacked=True, figsize=(5,4), title='Trip Status by Pickup Point')\n",
    "plt.ylabel('Number of Requests')\n",
    "plt.grid(True)\n",
    "plt.show()"
   ]
  },
  {
   "cell_type": "markdown",
   "metadata": {
    "id": "fge-S5ZAYoAp"
   },
   "source": [
    "##### 1. Why did you pick the specific chart?"
   ]
  },
  {
   "cell_type": "markdown",
   "metadata": {
    "id": "5dBItgRVYoAp"
   },
   "source": [
    "Helps compare how different pickup zones (City vs Airport) perform in terms of service completion and failures.\n",
    "\n",
    "Pinpoints whether issues are location-specific.\n",
    "\n",
    "Business Value:\n",
    "\n",
    "Reveals zone-level problems (e.g., airports may suffer from late-night no-car issues).\n",
    "\n",
    "It can inform decisions about location-specific driver dispatching and promotions."
   ]
  },
  {
   "cell_type": "markdown",
   "metadata": {
    "id": "85gYPyotYoAp"
   },
   "source": [
    "##### 2. What is/are the insight(s) found from the chart?"
   ]
  },
  {
   "cell_type": "markdown",
   "metadata": {
    "id": "4jstXR6OYoAp"
   },
   "source": [
    "🔍 Insight:\n",
    "\n",
    "City pickups show more cancellations.\n",
    "\n",
    "Airport pickups show more “No Cars Available”, especially at night.\n",
    "\n",
    "💼 Business Implication:\n",
    "\n",
    "Airport zones may need dedicated driver pools during late-night or early-morning hours.\n",
    "\n",
    "City zones may benefit from incentives to reduce cancellations or better ETA estimation."
   ]
  },
  {
   "cell_type": "markdown",
   "metadata": {
    "id": "RoGjAbkUYoAp"
   },
   "source": [
    "##### 3. Will the gained insights help creating a positive business impact?\n",
    "Are there any insights that lead to negative growth? Justify with specific reason."
   ]
  },
  {
   "cell_type": "markdown",
   "metadata": {
    "id": "zfJ8IqMcYoAp"
   },
   "source": [
    "✅ Positive Business Impact:\n",
    "\n",
    "Helps Uber adjust strategy by pickup location (e.g., city vs. airport).\n",
    "\n",
    "Enables zone-specific driver deployment or promotions.\n",
    "\n",
    "Can guide local partnerships (e.g., with airports).\n",
    "\n",
    "⚠️ Risk of Negative Growth (if ignored):\n",
    "\n",
    "Repeated “No Cars Available” at airports can alienate frequent travelers.\n",
    "\n",
    "High cancellations in city zones reduce urban service efficiency.\n",
    "\n",
    "📌 Justification: Location-specific issues, if unaddressed, cause regional dissatisfaction and missed business expansion opportunities."
   ]
  },
  {
   "cell_type": "markdown",
   "metadata": {
    "id": "4Of9eVA-YrdM"
   },
   "source": [
    "#### Chart - 4"
   ]
  },
  {
   "cell_type": "code",
   "execution_count": 124,
   "metadata": {
    "id": "irlUoxc8YrdO"
   },
   "outputs": [
    {
     "data": {
      "image/png": "[encoded data removed]",
      "text/plain": [
       "<Figure size 500x300 with 1 Axes>"
      ]
     },
     "metadata": {},
     "output_type": "display_data"
    }
   ],
   "source": [
    "# Chart - 4 Daily Request Volume by Day of Week\n",
    "\n",
    "df['Request day'].value_counts().reindex([\n",
    "'Monday','Tuesday','Wednesday','Thursday','Friday','Saturday','Sunday'\n",
    "]).plot(kind='bar', color='cyan', figsize=(5,3), title='Requests by Day of Week')\n",
    "plt.xlabel('Day')\n",
    "plt.ylabel('Number of Requests')\n",
    "plt.grid(True)\n",
    "plt.show()"
   ]
  },
  {
   "cell_type": "markdown",
   "metadata": {
    "id": "iky9q4vBYrdO"
   },
   "source": [
    "##### 1. Why did you pick the specific chart?"
   ]
  },
  {
   "cell_type": "markdown",
   "metadata": {
    "id": "aJRCwT6DYrdO"
   },
   "source": [
    "Shows weekly trends in ride requests.\n",
    "\n",
    "Identifies which days are busiest or slowest.\n",
    "\n",
    "Business Value:\n",
    "\n",
    "Supports weekly planning (e.g., hiring more drivers on Fridays and weekends).\n",
    "\n",
    "Helps detect special event trends or weekday vs. weekend behavior.\n",
    "\n",
    "Useful for marketing campaigns or rider discounts on slower days."
   ]
  },
  {
   "cell_type": "markdown",
   "metadata": {
    "id": "F6T5p64dYrdO"
   },
   "source": [
    "##### 2. What is/are the insight(s) found from the chart?"
   ]
  },
  {
   "cell_type": "markdown",
   "metadata": {
    "id": "Xx8WAJvtYrdO"
   },
   "source": [
    "🔍 Insight:\n",
    "\n",
    "The highest requests are usually on Fridays and Mondays.\n",
    "\n",
    "Weekends (Saturday/Sunday) may show either an increase or decrease depending on user behavior and city type (business vs. tourist-heavy).\n",
    "\n",
    "💼 Business Implication:\n",
    "\n",
    "Helps Uber manage weekly driver schedules.\n",
    "\n",
    "Offers a way to plan promotional offers (e.g., slow Monday rides get discounts, weekend drivers get bonuses)."
   ]
  },
  {
   "cell_type": "markdown",
   "metadata": {
    "id": "y-Ehk30pYrdP"
   },
   "source": [
    "##### 3. Will the gained insights help creating a positive business impact?\n",
    "Are there any insights that lead to negative growth? Justify with specific reason."
   ]
  },
  {
   "cell_type": "markdown",
   "metadata": {
    "id": "jLNxxz7MYrdP"
   },
   "source": [
    "✅ Positive Business Impact:\n",
    "\n",
    "Enables Uber to optimize staffing by day.\n",
    "\n",
    "Aligns marketing campaigns with demand (e.g., weekend promotions).\n",
    "\n",
    "Balances driver availability to avoid idle time on slow days.\n",
    "\n",
    "⚠️ Risk of Negative Growth (if ignored):\n",
    "\n",
    "Understaffing on high-demand days (e.g., Fridays) leads to higher cancellation rates.\n",
    "\n",
    "Overstaffing on slow days leads to low driver earnings, potentially causing them to leave the platform.\n",
    "\n",
    "📌 Justification: Without proper scheduling and demand alignment, Uber risks inefficiency and loss of driver trust and engagement."
   ]
  },
  {
   "cell_type": "markdown",
   "metadata": {
    "id": "bamQiAODYuh1"
   },
   "source": [
    "#### Chart - 5"
   ]
  },
  {
   "cell_type": "code",
   "execution_count": 126,
   "metadata": {
    "id": "TIJwrbroYuh3"
   },
   "outputs": [
    {
     "data": {
      "image/png": "[encoded data removed]",
      "text/plain": [
       "<Figure size 700x300 with 1 Axes>"
      ]
     },
     "metadata": {},
     "output_type": "display_data"
    }
   ],
   "source": [
    "# Chart - 5 Hourly Status Breakdown (Unstacked Line Plot)\n",
    "\n",
    "df.groupby(['Request hour', 'Status'], observed=True).size().unstack().plot(figsize=(7,3), title='Status Trend by Hour of Day')\n",
    "plt.xlabel('Hour of Day')\n",
    "plt.ylabel('Number of Requests')\n",
    "plt.grid(True)\n",
    "plt.legend(title='Status')\n",
    "plt.show()"
   ]
  },
  {
   "cell_type": "markdown",
   "metadata": {
    "id": "QHF8YVU7Yuh3"
   },
   "source": [
    "##### 1. Why did you pick the specific chart?"
   ]
  },
  {
   "cell_type": "markdown",
   "metadata": {
    "id": "dcxuIMRPYuh3"
   },
   "source": [
    "Shows how each ride status (Completed, Cancelled, No Cars Available) changes by hour.\n",
    "\n",
    "A multi-line view helps compare trends side by side.\n",
    "\n",
    "Business Value:\n",
    "\n",
    "Clearly shows when operational issues (e.g., cancellations or no-car cases) spike.\n",
    "\n",
    "Enables proactive planning, such as adding driver shifts or boosting incentives during high-risk periods."
   ]
  },
  {
   "cell_type": "markdown",
   "metadata": {
    "id": "GwzvFGzlYuh3"
   },
   "source": [
    "##### 2. What is/are the insight(s) found from the chart?"
   ]
  },
  {
   "cell_type": "markdown",
   "metadata": {
    "id": "uyqkiB8YYuh3"
   },
   "source": [
    "🔍 Insight:\n",
    "\n",
    "Cancellations spike early in the morning (5 AM–8 AM), possibly due to driver unavailability.\n",
    "\n",
    "“No Cars Available” increases at night (after 9 PM).\n",
    "\n",
    "“Trip Completed” remains fairly consistent during business hours.\n",
    "\n",
    "💼 Business Implication:\n",
    "\n",
    "Early-morning and late-night hours need attention—either by incentivizing drivers or improving user expectations (e.g., ETAs, surge pricing).\n",
    "\n",
    "Midday operations are generally smoother, indicating a balance between demand and supply."
   ]
  },
  {
   "cell_type": "markdown",
   "metadata": {
    "id": "qYpmQ266Yuh3"
   },
   "source": [
    "##### 3. Will the gained insights help creating a positive business impact?\n",
    "Are there any insights that lead to negative growth? Justify with specific reason."
   ]
  },
  {
   "cell_type": "markdown",
   "metadata": {
    "id": "_WtzZ_hCYuh4"
   },
   "source": [
    "✅ Positive Business Impact:\n",
    "\n",
    "Enables Uber to anticipate failure patterns (e.g., cancellations at 6 AM).\n",
    "\n",
    "Helps operational teams plan incentives, surge pricing, or driver availability in weak hours.\n",
    "\n",
    "Improves forecasting for supply chain balancing.\n",
    "\n",
    "⚠️ Risk of Negative Growth (if ignored):\n",
    "\n",
    "High failure rates during night or early morning hours go unresolved.\n",
    "\n",
    "Business travelers or late-night users may stop using Uber due to unreliability.\n",
    "\n",
    "Drivers may avoid logging in during problem hours, worsening the situation.\n",
    "\n",
    "📌 Justification: Unattended high-risk hours compound over time, damaging Uber’s credibility in key time slots."
   ]
  },
  {
   "cell_type": "markdown",
   "metadata": {
    "id": "loh7H2nzphqN"
   },
   "source": [
    "Answer Here."
   ]
  },
  {
   "cell_type": "markdown",
   "metadata": {
    "id": "VECbqPI7phqN"
   },
   "source": [
    "Answer Here"
   ]
  },
  {
   "cell_type": "markdown",
   "metadata": {
    "id": "DW4_bGpfphqN"
   },
   "source": [
    "Answer Here"
   ]
  },
  {
   "cell_type": "markdown",
   "metadata": {
    "id": "iv6ro40sphqO"
   },
   "source": [
    "Answer Here."
   ]
  },
  {
   "cell_type": "markdown",
   "metadata": {
    "id": "Po6ZPi4hphqO"
   },
   "source": [
    "Answer Here"
   ]
  },
  {
   "cell_type": "markdown",
   "metadata": {
    "id": "xvSq8iUTphqO"
   },
   "source": [
    "Answer Here"
   ]
  },
  {
   "cell_type": "code",
   "execution_count": null,
   "metadata": {
    "id": "TdPTWpAVphqO"
   },
   "outputs": [],
   "source": [
    "# Chart - 8 visualization code"
   ]
  },
  {
   "cell_type": "markdown",
   "metadata": {
    "id": "Ob8u6rCTphqO"
   },
   "source": [
    "Answer Here."
   ]
  },
  {
   "cell_type": "markdown",
   "metadata": {
    "id": "mZtgC_hjphqO"
   },
   "source": [
    "Answer Here"
   ]
  },
  {
   "cell_type": "markdown",
   "metadata": {
    "id": "ey_0qi68phqO"
   },
   "source": [
    "Answer Here"
   ]
  },
  {
   "cell_type": "code",
   "execution_count": null,
   "metadata": {
    "id": "B2aS4O1ophqO"
   },
   "outputs": [],
   "source": [
    "# Chart - 9 visualization code"
   ]
  },
  {
   "cell_type": "markdown",
   "metadata": {
    "id": "TVxDimi2phqP"
   },
   "source": [
    "Answer Here."
   ]
  },
  {
   "cell_type": "markdown",
   "metadata": {
    "id": "ngGi97qjphqQ"
   },
   "source": [
    "Answer Here"
   ]
  },
  {
   "cell_type": "markdown",
   "metadata": {
    "id": "tBpY5ekJphqQ"
   },
   "source": [
    "Answer Here"
   ]
  },
  {
   "cell_type": "code",
   "execution_count": null,
   "metadata": {
    "id": "GM7a4YP4phqQ"
   },
   "outputs": [],
   "source": [
    "# Chart - 10 visualization code"
   ]
  },
  {
   "cell_type": "markdown",
   "metadata": {
    "id": "8agQvks0phqQ"
   },
   "source": [
    "Answer Here."
   ]
  },
  {
   "cell_type": "markdown",
   "metadata": {
    "id": "Qp13pnNzphqQ"
   },
   "source": [
    "Answer Here"
   ]
  },
  {
   "cell_type": "markdown",
   "metadata": {
    "id": "R4Ka1PC2phqR"
   },
   "source": [
    "Answer Here"
   ]
  },
  {
   "cell_type": "code",
   "execution_count": null,
   "metadata": {
    "id": "mAQTIvtqp1cj"
   },
   "outputs": [],
   "source": [
    "# Chart - 11 visualization code"
   ]
  },
  {
   "cell_type": "markdown",
   "metadata": {
    "id": "-vsMzt_np1ck"
   },
   "source": [
    "Answer Here."
   ]
  },
  {
   "cell_type": "markdown",
   "metadata": {
    "id": "ZYdMsrqVp1ck"
   },
   "source": [
    "Answer Here"
   ]
  },
  {
   "cell_type": "markdown",
   "metadata": {
    "id": "druuKYZpp1ck"
   },
   "source": [
    "Answer Here"
   ]
  },
  {
   "cell_type": "markdown",
   "metadata": {
    "id": "m2xqNkiQp1ck"
   },
   "source": [
    "Answer Here."
   ]
  },
  {
   "cell_type": "markdown",
   "metadata": {
    "id": "x-lUsV2mp1ck"
   },
   "source": [
    "Answer Here"
   ]
  },
  {
   "cell_type": "markdown",
   "metadata": {
    "id": "5wwDJXsLp1cl"
   },
   "source": [
    "Answer Here"
   ]
  },
  {
   "cell_type": "markdown",
   "metadata": {
    "id": "V22bRsFWp1cl"
   },
   "source": [
    "Answer Here."
   ]
  },
  {
   "cell_type": "markdown",
   "metadata": {
    "id": "JcMwzZxoAimU"
   },
   "source": [
    "## **5. Solution to Business Objective**"
   ]
  },
  {
   "cell_type": "markdown",
   "metadata": {
    "id": "8G2x9gOozGDZ"
   },
   "source": [
    "#### What do you suggest the client to achieve Business Objective ?\n",
    "Explain Briefly."
   ]
  },
  {
   "cell_type": "markdown",
   "metadata": {
    "id": "pASKb0qOza21"
   },
   "source": [
    "1. Deploy More Drivers During Peak Hours\n",
    "Insight: Analysis shows spikes in cancellations and “No Cars Available” statuses during specific hours (typically morning and evening peaks).\n",
    "\n",
    "Action: Increase driver availability through targeted incentives during those high-demand time slots.\n",
    "\n",
    "2. Balance Supply Between Pickup Points\n",
    "Insight: The dataset often shows service issues are more frequent at either the City or Airport pickup point.\n",
    "\n",
    "Action: Rebalance driver distribution between these zones based on real-time and historical demand patterns.\n",
    "\n",
    "3. Use Predictive Demand Forecasting\n",
    "Insight: Requests follow a predictable temporal trend (hour of day, weekday vs. weekend).\n",
    "\n",
    "Action: Implement a demand forecasting model using historical data to pre-position drivers before surge periods.\n",
    "\n",
    "4. Incentivize Drivers for Completing Trips\n",
    "Insight: A significant number of trips are cancelled, possibly by drivers.\n",
    "\n",
    "Action: Offer bonuses for trip completion, especially in zones and times prone to cancellations.\n",
    "\n",
    "5. Improve User Communication\n",
    "Insight: Riders may experience frustration due to unfulfilled rides without clear communication.\n",
    "\n",
    "Action: Implement timely updates in the app and suggest alternate times or zones if no cars are available.\n",
    "\n",
    "6. Integrate Real-Time Analytics Dashboards\n",
    "Insight: Operations teams need visibility into live request/cancellation patterns.\n",
    "\n",
    "Action: Deploy dashboards showing hourly trends, driver gaps, and status breakdowns to support fast decision-making."
   ]
  },
  {
   "cell_type": "markdown",
   "metadata": {
    "id": "gCX9965dhzqZ"
   },
   "source": [
    "# **Conclusion**"
   ]
  },
  {
   "cell_type": "markdown",
   "metadata": {
    "id": "Fjb1IsQkh3yE"
   },
   "source": [
    "This Uber data analysis project serves as a critical step toward **improving operational efficiency**, **reducing lost ride opportunities**, and **enhancing customer satisfaction**. The insights will empower Uber to make **strategic decisions** about driver distribution, demand forecasting, and service optimization—ultimately leading to a more reliable and user-friendly platform."
   ]
  },
  {
   "cell_type": "markdown",
   "metadata": {
    "id": "gIfDvo9L0UH2",
    "jp-MarkdownHeadingCollapsed": true
   },
   "source": [
    "### ***Hurrah! You have successfully completed your EDA Capstone Project !!!***"
   ]
  }
 ],
 "metadata": {
  "colab": {
   "collapsed_sections": [
    "vncDsAP0Gaoa",
    "FJNUwmbgGyua",
    "w6K7xa23Elo4",
    "yQaldy8SH6Dl",
    "PH-0ReGfmX4f",
    "mDgbUHAGgjLW",
    "O_i_v8NEhb9l",
    "HhfV-JJviCcP",
    "Y3lxredqlCYt",
    "3RnN4peoiCZX",
    "x71ZqKXriCWQ",
    "7hBIi_osiCS2",
    "JlHwYmJAmNHm",
    "35m5QtbWiB9F",
    "PoPl-ycgm1ru",
    "H0kj-8xxnORC",
    "nA9Y7ga8ng1Z",
    "PBTbrJXOngz2",
    "u3PMJOP6ngxN",
    "dauF4eBmngu3",
    "bKJF3rekwFvQ",
    "MSa1f5Uengrz",
    "GF8Ens_Soomf",
    "0wOQAZs5pc--",
    "K5QZ13OEpz2H",
    "lQ7QKXXCp7Bj",
    "448CDAPjqfQr",
    "KSlN3yHqYklG",
    "t6dVpIINYklI",
    "ijmpgYnKYklI",
    "-JiQyfWJYklI",
    "EM7whBJCYoAo",
    "fge-S5ZAYoAp",
    "85gYPyotYoAp",
    "RoGjAbkUYoAp",
    "4Of9eVA-YrdM",
    "iky9q4vBYrdO",
    "F6T5p64dYrdO",
    "y-Ehk30pYrdP",
    "bamQiAODYuh1",
    "QHF8YVU7Yuh3",
    "GwzvFGzlYuh3",
    "qYpmQ266Yuh3",
    "OH-pJp9IphqM",
    "bbFf2-_FphqN",
    "_ouA3fa0phqN",
    "Seke61FWphqN",
    "PIIx-8_IphqN",
    "t27r6nlMphqO",
    "r2jJGEOYphqO",
    "b0JNsNcRphqO",
    "BZR9WyysphqO",
    "jj7wYXLtphqO",
    "eZrbJ2SmphqO",
    "rFu4xreNphqO",
    "YJ55k-q6phqO",
    "gCFgpxoyphqP",
    "OVtJsKN_phqQ",
    "lssrdh5qphqQ",
    "U2RJ9gkRphqQ",
    "1M8mcRywphqQ",
    "tgIPom80phqQ",
    "JMzcOPDDphqR",
    "x-EpHcCOp1ci",
    "X_VqEhTip1ck",
    "8zGJKyg5p1ck",
    "PVzmfK_Ep1ck",
    "n3dbpmDWp1ck",
    "ylSl6qgtp1ck",
    "ZWILFDl5p1ck",
    "M7G43BXep1ck",
    "Ag9LCva-p1cl",
    "E6MkPsBcp1cl",
    "2cELzS2fp1cl",
    "3MPXvC8up1cl",
    "NC_X3p0fY2L0",
    "UV0SzAkaZNRQ",
    "YPEH6qLeZNRQ",
    "q29F0dvdveiT",
    "EXh0U9oCveiU",
    "22aHeOlLveiV",
    "JcMwzZxoAimU",
    "8G2x9gOozGDZ",
    "gCX9965dhzqZ",
    "gIfDvo9L0UH2"
   ],
   "private_outputs": true,
   "provenance": []
  },
  "kernelspec": {
   "display_name": "Python 3 (ipykernel)",
   "language": "python",
   "name": "python3"
  },
  "language_info": {
   "codemirror_mode": {
    "name": "ipython",
    "version": 3
   },
   "file_extension": ".py",
   "mimetype": "text/x-python",
   "name": "python",
   "nbconvert_exporter": "python",
   "pygments_lexer": "ipython3",
   "version": "3.11.7"
  }
 },
 "nbformat": 4,
 "nbformat_minor": 4
}
